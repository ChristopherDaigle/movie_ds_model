{
 "cells": [
  {
   "cell_type": "code",
   "execution_count": 1,
   "metadata": {},
   "outputs": [],
   "source": [
    "%load_ext autoreload\n",
    "%autoreload 2"
   ]
  },
  {
   "cell_type": "code",
   "execution_count": 2,
   "metadata": {},
   "outputs": [],
   "source": [
    "import pandas as pd\n",
    "import numpy as np\n",
    "import matplotlib\n",
    "import seaborn as sns\n",
    "import json"
   ]
  },
  {
   "cell_type": "code",
   "execution_count": 3,
   "metadata": {},
   "outputs": [],
   "source": [
    "from data_engineering import de"
   ]
  },
  {
   "cell_type": "code",
   "execution_count": 4,
   "metadata": {},
   "outputs": [
    {
     "name": "stderr",
     "output_type": "stream",
     "text": [
      "/Users/daiglechris/opt/anaconda3/lib/python3.7/site-packages/IPython/core/interactiveshell.py:3063: DtypeWarning: Columns (0,1,2,3,4,5,6,7,8,9,10,13,14,15,16,19) have mixed types.Specify dtype option on import or set low_memory=False.\n",
      "  interactivity=interactivity, compiler=compiler, result=result)\n"
     ]
    }
   ],
   "source": [
    "df = pd.read_csv(\"data/movie_data.csv\")"
   ]
  },
  {
   "cell_type": "code",
   "execution_count": 5,
   "metadata": {
    "scrolled": true
   },
   "outputs": [],
   "source": [
    "# Initial analysis of dataframe\n",
    "null_0 = pd.DataFrame(df.isnull().sum()).reset_index()\n",
    "null_0.rename(columns={'index': 'factor', 0: 'num_null_0'}, inplace=True)\n",
    "null_0.sort_values(by='num_null_0', axis=0, ascending=False, inplace=True)\n",
    "null_0['miss_prop_0'] = round(null_0['num_null_0'] / df.shape[0], 4) * 100\n",
    "df_info = {'obs_0':df.shape[0],\n",
    "           'fac_0':df.shape[1],\n",
    "           'null_0': null_0}\n",
    "# Transformations to more accurately reflect data integrity issues\n",
    "numeric_cols = ['budget', 'popularity', 'revenue',\n",
    "                'runtime', 'vote_average', 'vote_count']\n",
    "for col in numeric_cols:\n",
    "    df[col] = df[col].apply(lambda x: pd.to_numeric(x, downcast='float', errors='coerce'))\n",
    "df['id'] = df['id'].apply(lambda x: pd.to_numeric(x, errors='coerce'))\n",
    "df['release_date'] = df['release_date'].apply(lambda x: pd.to_datetime(x, errors='coerce'))\n",
    "# Remove observations related to response variables\n",
    "df = df.dropna(how='any', subset=['vote_count', 'vote_average', 'revenue'])\n",
    "# Dataframe of the number of missing values after null removals\n",
    "trans_0_null = pd.DataFrame(df.isnull().sum()).reset_index()\n",
    "trans_0_null.rename(columns={'index': 'factor', 0: 'num_null_1'}, inplace=True)\n",
    "trans_0_null['miss_prop_1'] = round(trans_0_null['num_null_1'] / df.shape[0], 4) * 100\n",
    "null_1 = null_0.join(trans_0_null.set_index('factor'), on='factor')\n",
    "# Update dataframe information dictionary\n",
    "df_info['obs_1'] = df.shape[0]\n",
    "df_info['fac_1'] = df.shape[1]\n",
    "df_info['null_1'] = null_1"
   ]
  },
  {
   "cell_type": "code",
   "execution_count": 6,
   "metadata": {},
   "outputs": [
    {
     "name": "stdout",
     "output_type": "stream",
     "text": [
      "Initial observations: 133,744\n",
      "Number of observations after removing missing 'vote_count', 'vote_average', 'revenue': 28,477\n"
     ]
    }
   ],
   "source": [
    "print(\"Initial observations: {:,}\".format(df_info['obs_0']))\n",
    "print(\"Number of observations after removing missing 'vote_count', 'vote_average', 'revenue': {:,}\".format(df_info['obs_1']))"
   ]
  },
  {
   "cell_type": "code",
   "execution_count": 7,
   "metadata": {},
   "outputs": [
    {
     "data": {
      "text/html": [
       "<div>\n",
       "<style scoped>\n",
       "    .dataframe tbody tr th:only-of-type {\n",
       "        vertical-align: middle;\n",
       "    }\n",
       "\n",
       "    .dataframe tbody tr th {\n",
       "        vertical-align: top;\n",
       "    }\n",
       "\n",
       "    .dataframe thead th {\n",
       "        text-align: right;\n",
       "    }\n",
       "</style>\n",
       "<table border=\"1\" class=\"dataframe\">\n",
       "  <thead>\n",
       "    <tr style=\"text-align: right;\">\n",
       "      <th></th>\n",
       "      <th>factor</th>\n",
       "      <th>num_null_0</th>\n",
       "      <th>miss_prop_0</th>\n",
       "      <th>num_null_1</th>\n",
       "      <th>miss_prop_1</th>\n",
       "    </tr>\n",
       "  </thead>\n",
       "  <tbody>\n",
       "    <tr>\n",
       "      <th>2</th>\n",
       "      <td>homepage</td>\n",
       "      <td>114113</td>\n",
       "      <td>85.32</td>\n",
       "      <td>24461</td>\n",
       "      <td>85.90</td>\n",
       "    </tr>\n",
       "    <tr>\n",
       "      <th>15</th>\n",
       "      <td>tagline</td>\n",
       "      <td>120766</td>\n",
       "      <td>90.30</td>\n",
       "      <td>15499</td>\n",
       "      <td>54.43</td>\n",
       "    </tr>\n",
       "    <tr>\n",
       "      <th>6</th>\n",
       "      <td>overview</td>\n",
       "      <td>33226</td>\n",
       "      <td>24.84</td>\n",
       "      <td>458</td>\n",
       "      <td>1.61</td>\n",
       "    </tr>\n",
       "    <tr>\n",
       "      <th>12</th>\n",
       "      <td>runtime</td>\n",
       "      <td>105434</td>\n",
       "      <td>78.83</td>\n",
       "      <td>170</td>\n",
       "      <td>0.60</td>\n",
       "    </tr>\n",
       "    <tr>\n",
       "      <th>10</th>\n",
       "      <td>release_date</td>\n",
       "      <td>105375</td>\n",
       "      <td>78.79</td>\n",
       "      <td>111</td>\n",
       "      <td>0.39</td>\n",
       "    </tr>\n",
       "    <tr>\n",
       "      <th>13</th>\n",
       "      <td>spoken_languages</td>\n",
       "      <td>105264</td>\n",
       "      <td>78.71</td>\n",
       "      <td>0</td>\n",
       "      <td>0.00</td>\n",
       "    </tr>\n",
       "    <tr>\n",
       "      <th>3</th>\n",
       "      <td>id</td>\n",
       "      <td>32768</td>\n",
       "      <td>24.50</td>\n",
       "      <td>0</td>\n",
       "      <td>0.00</td>\n",
       "    </tr>\n",
       "    <tr>\n",
       "      <th>4</th>\n",
       "      <td>original_language</td>\n",
       "      <td>32768</td>\n",
       "      <td>24.50</td>\n",
       "      <td>0</td>\n",
       "      <td>0.00</td>\n",
       "    </tr>\n",
       "    <tr>\n",
       "      <th>5</th>\n",
       "      <td>original_title</td>\n",
       "      <td>32768</td>\n",
       "      <td>24.50</td>\n",
       "      <td>0</td>\n",
       "      <td>0.00</td>\n",
       "    </tr>\n",
       "    <tr>\n",
       "      <th>1</th>\n",
       "      <td>genres</td>\n",
       "      <td>32768</td>\n",
       "      <td>24.50</td>\n",
       "      <td>0</td>\n",
       "      <td>0.00</td>\n",
       "    </tr>\n",
       "    <tr>\n",
       "      <th>7</th>\n",
       "      <td>popularity</td>\n",
       "      <td>105264</td>\n",
       "      <td>78.71</td>\n",
       "      <td>0</td>\n",
       "      <td>0.00</td>\n",
       "    </tr>\n",
       "    <tr>\n",
       "      <th>11</th>\n",
       "      <td>revenue</td>\n",
       "      <td>105264</td>\n",
       "      <td>78.71</td>\n",
       "      <td>0</td>\n",
       "      <td>0.00</td>\n",
       "    </tr>\n",
       "    <tr>\n",
       "      <th>8</th>\n",
       "      <td>production_companies</td>\n",
       "      <td>105264</td>\n",
       "      <td>78.71</td>\n",
       "      <td>0</td>\n",
       "      <td>0.00</td>\n",
       "    </tr>\n",
       "    <tr>\n",
       "      <th>19</th>\n",
       "      <td>keywords</td>\n",
       "      <td>105267</td>\n",
       "      <td>78.71</td>\n",
       "      <td>0</td>\n",
       "      <td>0.00</td>\n",
       "    </tr>\n",
       "    <tr>\n",
       "      <th>14</th>\n",
       "      <td>status</td>\n",
       "      <td>105267</td>\n",
       "      <td>78.71</td>\n",
       "      <td>0</td>\n",
       "      <td>0.00</td>\n",
       "    </tr>\n",
       "    <tr>\n",
       "      <th>16</th>\n",
       "      <td>title</td>\n",
       "      <td>105267</td>\n",
       "      <td>78.71</td>\n",
       "      <td>0</td>\n",
       "      <td>0.00</td>\n",
       "    </tr>\n",
       "    <tr>\n",
       "      <th>17</th>\n",
       "      <td>vote_average</td>\n",
       "      <td>105267</td>\n",
       "      <td>78.71</td>\n",
       "      <td>0</td>\n",
       "      <td>0.00</td>\n",
       "    </tr>\n",
       "    <tr>\n",
       "      <th>18</th>\n",
       "      <td>vote_count</td>\n",
       "      <td>105267</td>\n",
       "      <td>78.71</td>\n",
       "      <td>0</td>\n",
       "      <td>0.00</td>\n",
       "    </tr>\n",
       "    <tr>\n",
       "      <th>9</th>\n",
       "      <td>production_countries</td>\n",
       "      <td>105267</td>\n",
       "      <td>78.71</td>\n",
       "      <td>0</td>\n",
       "      <td>0.00</td>\n",
       "    </tr>\n",
       "    <tr>\n",
       "      <th>0</th>\n",
       "      <td>budget</td>\n",
       "      <td>0</td>\n",
       "      <td>0.00</td>\n",
       "      <td>0</td>\n",
       "      <td>0.00</td>\n",
       "    </tr>\n",
       "  </tbody>\n",
       "</table>\n",
       "</div>"
      ],
      "text/plain": [
       "                  factor  num_null_0  miss_prop_0  num_null_1  miss_prop_1\n",
       "2               homepage      114113        85.32       24461        85.90\n",
       "15               tagline      120766        90.30       15499        54.43\n",
       "6               overview       33226        24.84         458         1.61\n",
       "12               runtime      105434        78.83         170         0.60\n",
       "10          release_date      105375        78.79         111         0.39\n",
       "13      spoken_languages      105264        78.71           0         0.00\n",
       "3                     id       32768        24.50           0         0.00\n",
       "4      original_language       32768        24.50           0         0.00\n",
       "5         original_title       32768        24.50           0         0.00\n",
       "1                 genres       32768        24.50           0         0.00\n",
       "7             popularity      105264        78.71           0         0.00\n",
       "11               revenue      105264        78.71           0         0.00\n",
       "8   production_companies      105264        78.71           0         0.00\n",
       "19              keywords      105267        78.71           0         0.00\n",
       "14                status      105267        78.71           0         0.00\n",
       "16                 title      105267        78.71           0         0.00\n",
       "17          vote_average      105267        78.71           0         0.00\n",
       "18            vote_count      105267        78.71           0         0.00\n",
       "9   production_countries      105267        78.71           0         0.00\n",
       "0                 budget           0         0.00           0         0.00"
      ]
     },
     "execution_count": 7,
     "metadata": {},
     "output_type": "execute_result"
    }
   ],
   "source": [
    "df_info['null_1'].sort_values('miss_prop_1', ascending=False)"
   ]
  },
  {
   "cell_type": "code",
   "execution_count": 8,
   "metadata": {},
   "outputs": [
    {
     "name": "stdout",
     "output_type": "stream",
     "text": [
      "budget\n",
      "float64\n",
      "0.00% null\n"
     ]
    },
    {
     "data": {
      "text/plain": [
       "0    0.0\n",
       "1    0.0\n",
       "2    0.0\n",
       "3    0.0\n",
       "4    0.0\n",
       "Name: budget, dtype: float64"
      ]
     },
     "metadata": {},
     "output_type": "display_data"
    },
    {
     "name": "stdout",
     "output_type": "stream",
     "text": [
      "++++++\n",
      "genres\n",
      "object\n",
      "0.00% null\n"
     ]
    },
    {
     "data": {
      "text/plain": [
       "0                       [{\"id\": 35, \"name\": \"Comedy\"}]\n",
       "1                    [{\"id\": 12, \"name\": \"Adventure\"}]\n",
       "2    [{\"id\": 10749, \"name\": \"Romance\"}, {\"id\": 18, ...\n",
       "3                       [{\"id\": 35, \"name\": \"Comedy\"}]\n",
       "4                                                   []\n",
       "Name: genres, dtype: object"
      ]
     },
     "metadata": {},
     "output_type": "display_data"
    },
    {
     "name": "stdout",
     "output_type": "stream",
     "text": [
      "++++++\n",
      "homepage\n",
      "object\n",
      "85.90% null\n"
     ]
    },
    {
     "data": {
      "text/plain": [
       "0                        NaN\n",
       "1                        NaN\n",
       "2                        NaN\n",
       "3                        NaN\n",
       "4    http://www.nwdfilms.com\n",
       "Name: homepage, dtype: object"
      ]
     },
     "metadata": {},
     "output_type": "display_data"
    },
    {
     "name": "stdout",
     "output_type": "stream",
     "text": [
      "++++++++\n",
      "id\n",
      "float64\n",
      "0.00% null\n"
     ]
    },
    {
     "data": {
      "text/plain": [
       "0     3924.0\n",
       "1     6124.0\n",
       "2     8773.0\n",
       "3    21624.0\n",
       "4    25449.0\n",
       "Name: id, dtype: float64"
      ]
     },
     "metadata": {},
     "output_type": "display_data"
    },
    {
     "name": "stdout",
     "output_type": "stream",
     "text": [
      "++\n",
      "original_language\n",
      "object\n",
      "0.00% null\n"
     ]
    },
    {
     "data": {
      "text/plain": [
       "0    en\n",
       "1    de\n",
       "2    fr\n",
       "3    pa\n",
       "4    en\n",
       "Name: original_language, dtype: object"
      ]
     },
     "metadata": {},
     "output_type": "display_data"
    },
    {
     "name": "stdout",
     "output_type": "stream",
     "text": [
      "+++++++++++++++++\n",
      "original_title\n",
      "object\n",
      "0.00% null\n"
     ]
    },
    {
     "data": {
      "text/plain": [
       "0                               Blondie\n",
       "1                   Der Mann ohne Namen\n",
       "2                   L'amour à vingt ans\n",
       "3                      Jatts in Golmaal\n",
       "4    New World Disorder 9: Never Enough\n",
       "Name: original_title, dtype: object"
      ]
     },
     "metadata": {},
     "output_type": "display_data"
    },
    {
     "name": "stdout",
     "output_type": "stream",
     "text": [
      "++++++++++++++\n",
      "overview\n",
      "object\n",
      "1.61% null\n"
     ]
    },
    {
     "data": {
      "text/plain": [
       "0    Blondie and Dagwood are about to celebrate the...\n",
       "1    Der Mann ohne Namen is a German adventure movi...\n",
       "2    Love at Twenty unites five directors from five...\n",
       "3    Jatts in Golmal is an Comedy based movie. In w...\n",
       "4    Gee Atherton ripping the Worlds course the day...\n",
       "Name: overview, dtype: object"
      ]
     },
     "metadata": {},
     "output_type": "display_data"
    },
    {
     "name": "stdout",
     "output_type": "stream",
     "text": [
      "++++++++\n",
      "popularity\n",
      "float64\n",
      "0.00% null\n"
     ]
    },
    {
     "data": {
      "text/plain": [
       "0    3.067\n",
       "1    0.845\n",
       "2    3.701\n",
       "3    0.600\n",
       "4    1.212\n",
       "Name: popularity, dtype: float64"
      ]
     },
     "metadata": {},
     "output_type": "display_data"
    },
    {
     "name": "stdout",
     "output_type": "stream",
     "text": [
      "++++++++++\n",
      "production_companies\n",
      "object\n",
      "0.00% null\n"
     ]
    },
    {
     "data": {
      "text/plain": [
       "0    [{\"id\": 5, \"logo_path\": \"/71BqEFAF4V3qjjMPCpLu...\n",
       "1                                                   []\n",
       "2    [{\"id\": 38936, \"logo_path\": null, \"name\": \"Uly...\n",
       "3                                                   []\n",
       "4                                                   []\n",
       "Name: production_companies, dtype: object"
      ]
     },
     "metadata": {},
     "output_type": "display_data"
    },
    {
     "name": "stdout",
     "output_type": "stream",
     "text": [
      "++++++++++++++++++++\n",
      "production_countries\n",
      "object\n",
      "0.00% null\n"
     ]
    },
    {
     "data": {
      "text/plain": [
       "0    [{\"iso_3166_1\": \"US\", \"name\": \"United States o...\n",
       "1            [{\"iso_3166_1\": \"DE\", \"name\": \"Germany\"}]\n",
       "2    [{\"iso_3166_1\": \"DE\", \"name\": \"Germany\"}, {\"is...\n",
       "3                                                   []\n",
       "4                                                   []\n",
       "Name: production_countries, dtype: object"
      ]
     },
     "metadata": {},
     "output_type": "display_data"
    },
    {
     "name": "stdout",
     "output_type": "stream",
     "text": [
      "++++++++++++++++++++\n",
      "release_date\n",
      "datetime64[ns]\n",
      "0.39% null\n"
     ]
    },
    {
     "data": {
      "text/plain": [
       "0   1938-11-30\n",
       "1   1921-01-01\n",
       "2   1962-06-22\n",
       "3   2003-02-21\n",
       "4   2008-12-08\n",
       "Name: release_date, dtype: datetime64[ns]"
      ]
     },
     "metadata": {},
     "output_type": "display_data"
    },
    {
     "name": "stdout",
     "output_type": "stream",
     "text": [
      "++++++++++++\n",
      "revenue\n",
      "float64\n",
      "0.00% null\n"
     ]
    },
    {
     "data": {
      "text/plain": [
       "0    0.0\n",
       "1    0.0\n",
       "2    0.0\n",
       "3    0.0\n",
       "4    0.0\n",
       "Name: revenue, dtype: float64"
      ]
     },
     "metadata": {},
     "output_type": "display_data"
    },
    {
     "name": "stdout",
     "output_type": "stream",
     "text": [
      "+++++++\n",
      "runtime\n",
      "float64\n",
      "0.60% null\n"
     ]
    },
    {
     "data": {
      "text/plain": [
       "0     70.0\n",
       "1    420.0\n",
       "2    110.0\n",
       "3      NaN\n",
       "4     69.0\n",
       "Name: runtime, dtype: float64"
      ]
     },
     "metadata": {},
     "output_type": "display_data"
    },
    {
     "name": "stdout",
     "output_type": "stream",
     "text": [
      "+++++++\n",
      "spoken_languages\n",
      "object\n",
      "0.00% null\n"
     ]
    },
    {
     "data": {
      "text/plain": [
       "0             [{\"iso_639_1\": \"en\", \"name\": \"English\"}]\n",
       "1                                                   []\n",
       "2    [{\"iso_639_1\": \"de\", \"name\": \"Deutsch\"}, {\"iso...\n",
       "3                                                   []\n",
       "4             [{\"iso_639_1\": \"en\", \"name\": \"English\"}]\n",
       "Name: spoken_languages, dtype: object"
      ]
     },
     "metadata": {},
     "output_type": "display_data"
    },
    {
     "name": "stdout",
     "output_type": "stream",
     "text": [
      "++++++++++++++++\n",
      "status\n",
      "object\n",
      "0.00% null\n"
     ]
    },
    {
     "data": {
      "text/plain": [
       "0    Released\n",
       "1    Released\n",
       "2    Released\n",
       "3    Released\n",
       "4    Released\n",
       "Name: status, dtype: object"
      ]
     },
     "metadata": {},
     "output_type": "display_data"
    },
    {
     "name": "stdout",
     "output_type": "stream",
     "text": [
      "++++++\n",
      "tagline\n",
      "object\n",
      "54.43% null\n"
     ]
    },
    {
     "data": {
      "text/plain": [
       "0                                     NaN\n",
       "1                                     NaN\n",
       "2    The Intimate Secrets of Young Lovers\n",
       "3                                     NaN\n",
       "4                                     NaN\n",
       "Name: tagline, dtype: object"
      ]
     },
     "metadata": {},
     "output_type": "display_data"
    },
    {
     "name": "stdout",
     "output_type": "stream",
     "text": [
      "+++++++\n",
      "title\n",
      "object\n",
      "0.00% null\n"
     ]
    },
    {
     "data": {
      "text/plain": [
       "0                               Blondie\n",
       "1         Peter Voss, Thief of Millions\n",
       "2                        Love at Twenty\n",
       "3                      Jatts in Golmaal\n",
       "4    New World Disorder 9: Never Enough\n",
       "Name: title, dtype: object"
      ]
     },
     "metadata": {},
     "output_type": "display_data"
    },
    {
     "name": "stdout",
     "output_type": "stream",
     "text": [
      "+++++\n",
      "vote_average\n",
      "float64\n",
      "0.00% null\n"
     ]
    },
    {
     "data": {
      "text/plain": [
       "0    6.6\n",
       "1    0.0\n",
       "2    6.9\n",
       "3    0.0\n",
       "4    4.5\n",
       "Name: vote_average, dtype: float64"
      ]
     },
     "metadata": {},
     "output_type": "display_data"
    },
    {
     "name": "stdout",
     "output_type": "stream",
     "text": [
      "++++++++++++\n",
      "vote_count\n",
      "float64\n",
      "0.00% null\n"
     ]
    },
    {
     "data": {
      "text/plain": [
       "0     4.0\n",
       "1     0.0\n",
       "2    27.0\n",
       "3     0.0\n",
       "4     2.0\n",
       "Name: vote_count, dtype: float64"
      ]
     },
     "metadata": {},
     "output_type": "display_data"
    },
    {
     "name": "stdout",
     "output_type": "stream",
     "text": [
      "++++++++++\n",
      "keywords\n",
      "object\n",
      "0.00% null\n"
     ]
    },
    {
     "data": {
      "text/plain": [
       "0                  [{\"id\": 190801, \"name\": \"blondie\"}]\n",
       "1                                                   []\n",
       "2                                                   []\n",
       "3                                                   []\n",
       "4    [{\"id\": 6075, \"name\": \"sport\"}, {\"id\": 10192, ...\n",
       "Name: keywords, dtype: object"
      ]
     },
     "metadata": {},
     "output_type": "display_data"
    },
    {
     "name": "stdout",
     "output_type": "stream",
     "text": [
      "++++++++\n"
     ]
    }
   ],
   "source": [
    "for col in df.columns:\n",
    "    print(col)\n",
    "    print(df[col].dtypes)\n",
    "    print(\"{:.2%} null\".format(df[col].isna().sum() / df.shape[0]))\n",
    "    display(df[col].head())\n",
    "    print(\"+\" * len(col))"
   ]
  },
  {
   "cell_type": "markdown",
   "metadata": {},
   "source": [
    "## Data Engineering Strategy\n",
    "For each column in the dataframe, here's some info and my plan to handle them:\n",
    "1. **budget**: float64, 0% null\n",
    "> *ALREADY CONVERTED TO FLOAT AND COERCED NAN*\n",
    "2. **genres**: object, 0% null, array holding dictionary, ex: `x = [{\"id\": 35, \"name\": \"Comedy\"}]`\n",
    "> *DRAW VALUE FROM \"name\" FROM EACH ELEMENT FROM ARRAY, ASSIGN NAN IF EMPTY*\n",
    "3. **homepage**: object, 85.9% null\n",
    "> *DROP: TOO MUCH MISSING*\n",
    "4. **id**: float64, 0% null\n",
    "> *DROP: NO INFORMATION*\n",
    "5. **original_language**: object, 0% null\n",
    "> *ENFORCE STRING*\n",
    "6. **original_title**: object, 0% null\n",
    "> *ENFORCE STRING*\n",
    "7. **overview**: object, 1.61% null\n",
    "> *ENFORCE STRING*\n",
    "8. **popularity**: float64, 0% null\n",
    "9. **production_companies**: object, 0% null, array holding dictionary\n",
    "> *DRAW VALUE FROM \"name\" FROM EACH ELEMENT FROM ARRAY, ASSIGN NAN IF EMPTY*\n",
    "10. **production_countries**: object, 0% null, array holding dictionaries\n",
    "> *DRAW VALUE FROM \"iso_3166_1\" FROM EACH ELEMENT FROM ARRAY, ASSIGN NAN IF EMPTY*\n",
    "11. **release_date**: datetime64, 0.39% null\n",
    "> *ALREADY CONVERTED TO DATETIME AND FILLED NAN*\n",
    "12. **revenue**: float64, 0% null\n",
    "> *RESPONSE VARIABLE*\n",
    "13. **runtime**: float64, 0.6% null\n",
    "> *ALREADY CONVERTED TO FLOAT AND COERCED NAN*\n",
    "14. **spoken_languages**: object, 0% null, array of dictionaries\n",
    "> *Drop and see if valuable after using only original_language*<br>\n",
    "> If brought back in...<br>\n",
    "> *DRAW VALUE FROM \"iso_639_1\" FROM EACH ELEMENT FROM ARRAY, ASSIGN NAN IF EMPTY, CAPITALIZE*\n",
    "15. **status**: object, 0% null\n",
    "> *CHECK IF BINARY INDICATOR*\n",
    "16. **tagline**: object, 54.43% null\n",
    "> *FIND RELATIONSHIP BETWEEN ORIGINAL_LANGUAGE, PRODUCTION_COUNTRIES, AND STATUS*\n",
    "17. **title**: object, 0% null\n",
    "18. **vote_average**: float64, 0% null\n",
    "> *PREVIOUSLY CONVERTED TO FLOAT AND DROPPED MISSING*\n",
    "19. **vote_count**: float64, 0% null\n",
    "> *PREVIOUSLY CONVERTED TO FLOAT AND DROPPED MISSING*\n",
    "20. **keywords**: object, 0% null, array holding dictionaries\n",
    "> *DRAW VALUE FROM \"name\" FROM EACH ELEMENT FROM ARRAY, ASSIGN NAN IF EMPTY*"
   ]
  },
  {
   "cell_type": "code",
   "execution_count": 9,
   "metadata": {},
   "outputs": [],
   "source": [
    "df['genres'] = de.string_array_clean(df_col=df['genres'], element='name')\n",
    "df.drop(['homepage', 'id'], axis=1, inplace=True)\n",
    "df['original_language'] = df['original_language'].astype(str)\n",
    "df['original_title'] = df['original_title'].astype(str)\n",
    "df['overview'] = df['overview'].astype(str)\n",
    "df['production_companies'] = de.string_array_clean(df_col=df['production_companies'], element='name')\n",
    "df['production_countries'] = de.string_array_clean(df_col=df['production_countries'], element='iso_3166_1')\n",
    "df['spoken_languages'] = de.string_array_clean(df_col=df['spoken_languages'], element='iso_639_1')\n",
    "df['tagline'] = df['tagline'].astype(str)\n",
    "df['title'] = df['title'].astype(str)\n",
    "df['keywords'] = de.string_array_clean(df_col=df['keywords'], element='name')\n",
    "df.reset_index(inplace = True, drop = True)"
   ]
  },
  {
   "cell_type": "code",
   "execution_count": 10,
   "metadata": {},
   "outputs": [
    {
     "data": {
      "text/html": [
       "<div>\n",
       "<style scoped>\n",
       "    .dataframe tbody tr th:only-of-type {\n",
       "        vertical-align: middle;\n",
       "    }\n",
       "\n",
       "    .dataframe tbody tr th {\n",
       "        vertical-align: top;\n",
       "    }\n",
       "\n",
       "    .dataframe thead th {\n",
       "        text-align: right;\n",
       "    }\n",
       "</style>\n",
       "<table border=\"1\" class=\"dataframe\">\n",
       "  <thead>\n",
       "    <tr style=\"text-align: right;\">\n",
       "      <th></th>\n",
       "      <th>budget</th>\n",
       "      <th>genres</th>\n",
       "      <th>original_language</th>\n",
       "      <th>original_title</th>\n",
       "      <th>overview</th>\n",
       "      <th>popularity</th>\n",
       "      <th>production_companies</th>\n",
       "      <th>production_countries</th>\n",
       "      <th>release_date</th>\n",
       "      <th>revenue</th>\n",
       "      <th>runtime</th>\n",
       "      <th>spoken_languages</th>\n",
       "      <th>status</th>\n",
       "      <th>tagline</th>\n",
       "      <th>title</th>\n",
       "      <th>vote_average</th>\n",
       "      <th>vote_count</th>\n",
       "      <th>keywords</th>\n",
       "    </tr>\n",
       "  </thead>\n",
       "  <tbody>\n",
       "    <tr>\n",
       "      <th>0</th>\n",
       "      <td>0.0</td>\n",
       "      <td>[Comedy]</td>\n",
       "      <td>en</td>\n",
       "      <td>Blondie</td>\n",
       "      <td>Blondie and Dagwood are about to celebrate the...</td>\n",
       "      <td>3.067</td>\n",
       "      <td>[Columbia Pictures]</td>\n",
       "      <td>[US]</td>\n",
       "      <td>1938-11-30</td>\n",
       "      <td>0.0</td>\n",
       "      <td>70.0</td>\n",
       "      <td>[en]</td>\n",
       "      <td>Released</td>\n",
       "      <td>nan</td>\n",
       "      <td>Blondie</td>\n",
       "      <td>6.6</td>\n",
       "      <td>4.0</td>\n",
       "      <td>[blondie]</td>\n",
       "    </tr>\n",
       "    <tr>\n",
       "      <th>1</th>\n",
       "      <td>0.0</td>\n",
       "      <td>[Adventure]</td>\n",
       "      <td>de</td>\n",
       "      <td>Der Mann ohne Namen</td>\n",
       "      <td>Der Mann ohne Namen is a German adventure movi...</td>\n",
       "      <td>0.845</td>\n",
       "      <td>None</td>\n",
       "      <td>[DE]</td>\n",
       "      <td>1921-01-01</td>\n",
       "      <td>0.0</td>\n",
       "      <td>420.0</td>\n",
       "      <td>None</td>\n",
       "      <td>Released</td>\n",
       "      <td>nan</td>\n",
       "      <td>Peter Voss, Thief of Millions</td>\n",
       "      <td>0.0</td>\n",
       "      <td>0.0</td>\n",
       "      <td>None</td>\n",
       "    </tr>\n",
       "    <tr>\n",
       "      <th>2</th>\n",
       "      <td>0.0</td>\n",
       "      <td>[Romance, Drama]</td>\n",
       "      <td>fr</td>\n",
       "      <td>L'amour à vingt ans</td>\n",
       "      <td>Love at Twenty unites five directors from five...</td>\n",
       "      <td>3.701</td>\n",
       "      <td>[Ulysse Productions, Unitec Films, Cinesecolo,...</td>\n",
       "      <td>[DE, FR, IT, JP, PL]</td>\n",
       "      <td>1962-06-22</td>\n",
       "      <td>0.0</td>\n",
       "      <td>110.0</td>\n",
       "      <td>[de, fr, it, ja, pl]</td>\n",
       "      <td>Released</td>\n",
       "      <td>The Intimate Secrets of Young Lovers</td>\n",
       "      <td>Love at Twenty</td>\n",
       "      <td>6.9</td>\n",
       "      <td>27.0</td>\n",
       "      <td>None</td>\n",
       "    </tr>\n",
       "    <tr>\n",
       "      <th>3</th>\n",
       "      <td>0.0</td>\n",
       "      <td>[Comedy]</td>\n",
       "      <td>pa</td>\n",
       "      <td>Jatts in Golmaal</td>\n",
       "      <td>Jatts in Golmal is an Comedy based movie. In w...</td>\n",
       "      <td>0.600</td>\n",
       "      <td>None</td>\n",
       "      <td>None</td>\n",
       "      <td>2003-02-21</td>\n",
       "      <td>0.0</td>\n",
       "      <td>NaN</td>\n",
       "      <td>None</td>\n",
       "      <td>Released</td>\n",
       "      <td>nan</td>\n",
       "      <td>Jatts in Golmaal</td>\n",
       "      <td>0.0</td>\n",
       "      <td>0.0</td>\n",
       "      <td>None</td>\n",
       "    </tr>\n",
       "    <tr>\n",
       "      <th>4</th>\n",
       "      <td>0.0</td>\n",
       "      <td>None</td>\n",
       "      <td>en</td>\n",
       "      <td>New World Disorder 9: Never Enough</td>\n",
       "      <td>Gee Atherton ripping the Worlds course the day...</td>\n",
       "      <td>1.212</td>\n",
       "      <td>None</td>\n",
       "      <td>None</td>\n",
       "      <td>2008-12-08</td>\n",
       "      <td>0.0</td>\n",
       "      <td>69.0</td>\n",
       "      <td>[en]</td>\n",
       "      <td>Released</td>\n",
       "      <td>nan</td>\n",
       "      <td>New World Disorder 9: Never Enough</td>\n",
       "      <td>4.5</td>\n",
       "      <td>2.0</td>\n",
       "      <td>[sport, mountain bike]</td>\n",
       "    </tr>\n",
       "  </tbody>\n",
       "</table>\n",
       "</div>"
      ],
      "text/plain": [
       "   budget            genres original_language  \\\n",
       "0     0.0          [Comedy]                en   \n",
       "1     0.0       [Adventure]                de   \n",
       "2     0.0  [Romance, Drama]                fr   \n",
       "3     0.0          [Comedy]                pa   \n",
       "4     0.0              None                en   \n",
       "\n",
       "                       original_title  \\\n",
       "0                             Blondie   \n",
       "1                 Der Mann ohne Namen   \n",
       "2                 L'amour à vingt ans   \n",
       "3                    Jatts in Golmaal   \n",
       "4  New World Disorder 9: Never Enough   \n",
       "\n",
       "                                            overview  popularity  \\\n",
       "0  Blondie and Dagwood are about to celebrate the...       3.067   \n",
       "1  Der Mann ohne Namen is a German adventure movi...       0.845   \n",
       "2  Love at Twenty unites five directors from five...       3.701   \n",
       "3  Jatts in Golmal is an Comedy based movie. In w...       0.600   \n",
       "4  Gee Atherton ripping the Worlds course the day...       1.212   \n",
       "\n",
       "                                production_companies  production_countries  \\\n",
       "0                                [Columbia Pictures]                  [US]   \n",
       "1                                               None                  [DE]   \n",
       "2  [Ulysse Productions, Unitec Films, Cinesecolo,...  [DE, FR, IT, JP, PL]   \n",
       "3                                               None                  None   \n",
       "4                                               None                  None   \n",
       "\n",
       "  release_date  revenue  runtime      spoken_languages    status  \\\n",
       "0   1938-11-30      0.0     70.0                  [en]  Released   \n",
       "1   1921-01-01      0.0    420.0                  None  Released   \n",
       "2   1962-06-22      0.0    110.0  [de, fr, it, ja, pl]  Released   \n",
       "3   2003-02-21      0.0      NaN                  None  Released   \n",
       "4   2008-12-08      0.0     69.0                  [en]  Released   \n",
       "\n",
       "                                tagline                               title  \\\n",
       "0                                   nan                             Blondie   \n",
       "1                                   nan       Peter Voss, Thief of Millions   \n",
       "2  The Intimate Secrets of Young Lovers                      Love at Twenty   \n",
       "3                                   nan                    Jatts in Golmaal   \n",
       "4                                   nan  New World Disorder 9: Never Enough   \n",
       "\n",
       "   vote_average  vote_count                keywords  \n",
       "0           6.6         4.0               [blondie]  \n",
       "1           0.0         0.0                    None  \n",
       "2           6.9        27.0                    None  \n",
       "3           0.0         0.0                    None  \n",
       "4           4.5         2.0  [sport, mountain bike]  "
      ]
     },
     "execution_count": 10,
     "metadata": {},
     "output_type": "execute_result"
    }
   ],
   "source": [
    "df.head()"
   ]
  },
  {
   "cell_type": "code",
   "execution_count": 11,
   "metadata": {},
   "outputs": [],
   "source": [
    "# Initial analysis of dataframe\n",
    "trans_null_2 = pd.DataFrame(df.isnull().sum()).reset_index()\n",
    "trans_null_2.rename(columns={'index': 'factor', 0: 'num_null_2'}, inplace=True)\n",
    "null_2 = null_1.join(trans_null_2.set_index('factor'), on='factor')\n",
    "df_info['obs_2'] = df.shape[0]\n",
    "df_info['fac_2'] = df.shape[1]\n",
    "df_info['null_2'] = null_2"
   ]
  },
  {
   "cell_type": "code",
   "execution_count": 12,
   "metadata": {},
   "outputs": [
    {
     "data": {
      "text/html": [
       "<div>\n",
       "<style scoped>\n",
       "    .dataframe tbody tr th:only-of-type {\n",
       "        vertical-align: middle;\n",
       "    }\n",
       "\n",
       "    .dataframe tbody tr th {\n",
       "        vertical-align: top;\n",
       "    }\n",
       "\n",
       "    .dataframe thead th {\n",
       "        text-align: right;\n",
       "    }\n",
       "</style>\n",
       "<table border=\"1\" class=\"dataframe\">\n",
       "  <thead>\n",
       "    <tr style=\"text-align: right;\">\n",
       "      <th></th>\n",
       "      <th>factor</th>\n",
       "      <th>num_null_0</th>\n",
       "      <th>miss_prop_0</th>\n",
       "      <th>num_null_1</th>\n",
       "      <th>miss_prop_1</th>\n",
       "      <th>num_null_2</th>\n",
       "      <th>miss_prop_2</th>\n",
       "    </tr>\n",
       "  </thead>\n",
       "  <tbody>\n",
       "    <tr>\n",
       "      <th>19</th>\n",
       "      <td>keywords</td>\n",
       "      <td>105267</td>\n",
       "      <td>78.71</td>\n",
       "      <td>0</td>\n",
       "      <td>0.00</td>\n",
       "      <td>7276.0</td>\n",
       "      <td>25.55</td>\n",
       "    </tr>\n",
       "    <tr>\n",
       "      <th>8</th>\n",
       "      <td>production_companies</td>\n",
       "      <td>105264</td>\n",
       "      <td>78.71</td>\n",
       "      <td>0</td>\n",
       "      <td>0.00</td>\n",
       "      <td>6877.0</td>\n",
       "      <td>24.15</td>\n",
       "    </tr>\n",
       "    <tr>\n",
       "      <th>9</th>\n",
       "      <td>production_countries</td>\n",
       "      <td>105267</td>\n",
       "      <td>78.71</td>\n",
       "      <td>0</td>\n",
       "      <td>0.00</td>\n",
       "      <td>2849.0</td>\n",
       "      <td>10.00</td>\n",
       "    </tr>\n",
       "    <tr>\n",
       "      <th>13</th>\n",
       "      <td>spoken_languages</td>\n",
       "      <td>105264</td>\n",
       "      <td>78.71</td>\n",
       "      <td>0</td>\n",
       "      <td>0.00</td>\n",
       "      <td>1754.0</td>\n",
       "      <td>6.16</td>\n",
       "    </tr>\n",
       "    <tr>\n",
       "      <th>1</th>\n",
       "      <td>genres</td>\n",
       "      <td>32768</td>\n",
       "      <td>24.50</td>\n",
       "      <td>0</td>\n",
       "      <td>0.00</td>\n",
       "      <td>1217.0</td>\n",
       "      <td>4.27</td>\n",
       "    </tr>\n",
       "    <tr>\n",
       "      <th>12</th>\n",
       "      <td>runtime</td>\n",
       "      <td>105434</td>\n",
       "      <td>78.83</td>\n",
       "      <td>170</td>\n",
       "      <td>0.60</td>\n",
       "      <td>170.0</td>\n",
       "      <td>0.60</td>\n",
       "    </tr>\n",
       "    <tr>\n",
       "      <th>10</th>\n",
       "      <td>release_date</td>\n",
       "      <td>105375</td>\n",
       "      <td>78.79</td>\n",
       "      <td>111</td>\n",
       "      <td>0.39</td>\n",
       "      <td>111.0</td>\n",
       "      <td>0.39</td>\n",
       "    </tr>\n",
       "    <tr>\n",
       "      <th>15</th>\n",
       "      <td>tagline</td>\n",
       "      <td>120766</td>\n",
       "      <td>90.30</td>\n",
       "      <td>15499</td>\n",
       "      <td>54.43</td>\n",
       "      <td>0.0</td>\n",
       "      <td>0.00</td>\n",
       "    </tr>\n",
       "    <tr>\n",
       "      <th>7</th>\n",
       "      <td>popularity</td>\n",
       "      <td>105264</td>\n",
       "      <td>78.71</td>\n",
       "      <td>0</td>\n",
       "      <td>0.00</td>\n",
       "      <td>0.0</td>\n",
       "      <td>0.00</td>\n",
       "    </tr>\n",
       "    <tr>\n",
       "      <th>4</th>\n",
       "      <td>original_language</td>\n",
       "      <td>32768</td>\n",
       "      <td>24.50</td>\n",
       "      <td>0</td>\n",
       "      <td>0.00</td>\n",
       "      <td>0.0</td>\n",
       "      <td>0.00</td>\n",
       "    </tr>\n",
       "    <tr>\n",
       "      <th>5</th>\n",
       "      <td>original_title</td>\n",
       "      <td>32768</td>\n",
       "      <td>24.50</td>\n",
       "      <td>0</td>\n",
       "      <td>0.00</td>\n",
       "      <td>0.0</td>\n",
       "      <td>0.00</td>\n",
       "    </tr>\n",
       "    <tr>\n",
       "      <th>6</th>\n",
       "      <td>overview</td>\n",
       "      <td>33226</td>\n",
       "      <td>24.84</td>\n",
       "      <td>458</td>\n",
       "      <td>1.61</td>\n",
       "      <td>0.0</td>\n",
       "      <td>0.00</td>\n",
       "    </tr>\n",
       "    <tr>\n",
       "      <th>11</th>\n",
       "      <td>revenue</td>\n",
       "      <td>105264</td>\n",
       "      <td>78.71</td>\n",
       "      <td>0</td>\n",
       "      <td>0.00</td>\n",
       "      <td>0.0</td>\n",
       "      <td>0.00</td>\n",
       "    </tr>\n",
       "    <tr>\n",
       "      <th>14</th>\n",
       "      <td>status</td>\n",
       "      <td>105267</td>\n",
       "      <td>78.71</td>\n",
       "      <td>0</td>\n",
       "      <td>0.00</td>\n",
       "      <td>0.0</td>\n",
       "      <td>0.00</td>\n",
       "    </tr>\n",
       "    <tr>\n",
       "      <th>16</th>\n",
       "      <td>title</td>\n",
       "      <td>105267</td>\n",
       "      <td>78.71</td>\n",
       "      <td>0</td>\n",
       "      <td>0.00</td>\n",
       "      <td>0.0</td>\n",
       "      <td>0.00</td>\n",
       "    </tr>\n",
       "    <tr>\n",
       "      <th>17</th>\n",
       "      <td>vote_average</td>\n",
       "      <td>105267</td>\n",
       "      <td>78.71</td>\n",
       "      <td>0</td>\n",
       "      <td>0.00</td>\n",
       "      <td>0.0</td>\n",
       "      <td>0.00</td>\n",
       "    </tr>\n",
       "    <tr>\n",
       "      <th>18</th>\n",
       "      <td>vote_count</td>\n",
       "      <td>105267</td>\n",
       "      <td>78.71</td>\n",
       "      <td>0</td>\n",
       "      <td>0.00</td>\n",
       "      <td>0.0</td>\n",
       "      <td>0.00</td>\n",
       "    </tr>\n",
       "    <tr>\n",
       "      <th>0</th>\n",
       "      <td>budget</td>\n",
       "      <td>0</td>\n",
       "      <td>0.00</td>\n",
       "      <td>0</td>\n",
       "      <td>0.00</td>\n",
       "      <td>0.0</td>\n",
       "      <td>0.00</td>\n",
       "    </tr>\n",
       "    <tr>\n",
       "      <th>2</th>\n",
       "      <td>homepage</td>\n",
       "      <td>114113</td>\n",
       "      <td>85.32</td>\n",
       "      <td>24461</td>\n",
       "      <td>85.90</td>\n",
       "      <td>NaN</td>\n",
       "      <td>NaN</td>\n",
       "    </tr>\n",
       "    <tr>\n",
       "      <th>3</th>\n",
       "      <td>id</td>\n",
       "      <td>32768</td>\n",
       "      <td>24.50</td>\n",
       "      <td>0</td>\n",
       "      <td>0.00</td>\n",
       "      <td>NaN</td>\n",
       "      <td>NaN</td>\n",
       "    </tr>\n",
       "  </tbody>\n",
       "</table>\n",
       "</div>"
      ],
      "text/plain": [
       "                  factor  num_null_0  miss_prop_0  num_null_1  miss_prop_1  \\\n",
       "19              keywords      105267        78.71           0         0.00   \n",
       "8   production_companies      105264        78.71           0         0.00   \n",
       "9   production_countries      105267        78.71           0         0.00   \n",
       "13      spoken_languages      105264        78.71           0         0.00   \n",
       "1                 genres       32768        24.50           0         0.00   \n",
       "12               runtime      105434        78.83         170         0.60   \n",
       "10          release_date      105375        78.79         111         0.39   \n",
       "15               tagline      120766        90.30       15499        54.43   \n",
       "7             popularity      105264        78.71           0         0.00   \n",
       "4      original_language       32768        24.50           0         0.00   \n",
       "5         original_title       32768        24.50           0         0.00   \n",
       "6               overview       33226        24.84         458         1.61   \n",
       "11               revenue      105264        78.71           0         0.00   \n",
       "14                status      105267        78.71           0         0.00   \n",
       "16                 title      105267        78.71           0         0.00   \n",
       "17          vote_average      105267        78.71           0         0.00   \n",
       "18            vote_count      105267        78.71           0         0.00   \n",
       "0                 budget           0         0.00           0         0.00   \n",
       "2               homepage      114113        85.32       24461        85.90   \n",
       "3                     id       32768        24.50           0         0.00   \n",
       "\n",
       "    num_null_2  miss_prop_2  \n",
       "19      7276.0        25.55  \n",
       "8       6877.0        24.15  \n",
       "9       2849.0        10.00  \n",
       "13      1754.0         6.16  \n",
       "1       1217.0         4.27  \n",
       "12       170.0         0.60  \n",
       "10       111.0         0.39  \n",
       "15         0.0         0.00  \n",
       "7          0.0         0.00  \n",
       "4          0.0         0.00  \n",
       "5          0.0         0.00  \n",
       "6          0.0         0.00  \n",
       "11         0.0         0.00  \n",
       "14         0.0         0.00  \n",
       "16         0.0         0.00  \n",
       "17         0.0         0.00  \n",
       "18         0.0         0.00  \n",
       "0          0.0         0.00  \n",
       "2          NaN          NaN  \n",
       "3          NaN          NaN  "
      ]
     },
     "execution_count": 12,
     "metadata": {},
     "output_type": "execute_result"
    }
   ],
   "source": [
    "df_info['null_2']['miss_prop_2'] = round(df_info['null_2']['num_null_2'] / df.shape[0], 4) * 100\n",
    "df_info['null_2'].sort_values('miss_prop_2', ascending=False)"
   ]
  },
  {
   "cell_type": "markdown",
   "metadata": {},
   "source": [
    "## Parse these crazy lists"
   ]
  },
  {
   "cell_type": "code",
   "execution_count": 25,
   "metadata": {},
   "outputs": [
    {
     "name": "stdout",
     "output_type": "stream",
     "text": [
      "            genres  num_obs   prop\n",
      "0            Drama    11343  39.83\n",
      "1           Comedy     9125  32.04\n",
      "2         Thriller     4937  17.34\n",
      "3           Action     4442  15.60\n",
      "4          Romance     3923  13.78\n",
      "5           Horror     3607  12.67\n",
      "6            Crime     3120  10.96\n",
      "7        Adventure     2509   8.81\n",
      "8  Science Fiction     2143   7.53\n",
      "9           Family     2112   7.42\n",
      "Average: 3,064\n",
      "Median: 2,112.0\n",
      "Number of distinct: 19\n"
     ]
    },
    {
     "data": {
      "image/png": "[encoded data removed]",
      "text/plain": [
       "<Figure size 432x288 with 1 Axes>"
      ]
     },
     "metadata": {
      "needs_background": "light"
     },
     "output_type": "display_data"
    }
   ],
   "source": [
    "top_ten_genres = de.col_arr_parse(df,'genres')"
   ]
  },
  {
   "cell_type": "code",
   "execution_count": 20,
   "metadata": {},
   "outputs": [
    {
     "name": "stdout",
     "output_type": "stream",
     "text": [
      "                 keywords  num_obs  prop\n",
      "0          woman director     1272  4.47\n",
      "1        independent film     1206  4.23\n",
      "2                  murder     1040  3.65\n",
      "3  based on novel or book      918  3.22\n",
      "4                 musical      612  2.15\n",
      "5                   sport      586  2.06\n",
      "6                violence      529  1.86\n",
      "7                 revenge      462  1.62\n",
      "8           new york city      446  1.57\n",
      "9                    noir      415  1.46\n",
      "Average: 8\n",
      "Median: 2.0\n",
      "Number of distinct: 16,338\n"
     ]
    },
    {
     "data": {
      "image/png": "[encoded data removed]",
      "text/plain": [
       "<Figure size 432x288 with 1 Axes>"
      ]
     },
     "metadata": {
      "needs_background": "light"
     },
     "output_type": "display_data"
    }
   ],
   "source": [
    "top_ten_kw = de.col_arr_parse(df,'keywords')"
   ]
  },
  {
   "cell_type": "code",
   "execution_count": 21,
   "metadata": {},
   "outputs": [
    {
     "name": "stdout",
     "output_type": "stream",
     "text": [
      "    production_companies  num_obs  prop\n",
      "0  Warner Bros. Pictures      857  3.01\n",
      "1              Paramount      729  2.56\n",
      "2     Universal Pictures      701  2.46\n",
      "3      Columbia Pictures      661  2.32\n",
      "4       20th Century Fox      646  2.27\n",
      "5    Metro-Goldwyn-Mayer      622  2.18\n",
      "6                 Canal+      282  0.99\n",
      "7         United Artists      246  0.86\n",
      "8   Walt Disney Pictures      237  0.83\n",
      "9        New Line Cinema      230  0.81\n",
      "Average: 3\n",
      "Median: 1.0\n",
      "Number of distinct: 15,748\n"
     ]
    },
    {
     "data": {
      "image/png": "[encoded data removed]",
      "text/plain": [
       "<Figure size 432x288 with 1 Axes>"
      ]
     },
     "metadata": {
      "needs_background": "light"
     },
     "output_type": "display_data"
    }
   ],
   "source": [
    "top_ten_prod_comp = de.col_arr_parse(df,'production_companies')"
   ]
  },
  {
   "cell_type": "code",
   "execution_count": 23,
   "metadata": {},
   "outputs": [
    {
     "name": "stdout",
     "output_type": "stream",
     "text": [
      "  production_countries  num_obs   prop\n",
      "0                   US    14207  49.89\n",
      "1                   GB     2785   9.78\n",
      "2                   DE     2303   8.09\n",
      "3                   FR     2219   7.79\n",
      "4                   IT     1263   4.44\n",
      "5                   JP     1176   4.13\n",
      "6                   CA     1061   3.73\n",
      "7                   ES      629   2.21\n",
      "8                   IN      490   1.72\n",
      "9                   HK      455   1.60\n",
      "Average: 228\n",
      "Median: 7.0\n",
      "Number of distinct: 141\n"
     ]
    },
    {
     "data": {
      "image/png": "[encoded data removed]",
      "text/plain": [
       "<Figure size 432x288 with 1 Axes>"
      ]
     },
     "metadata": {
      "needs_background": "light"
     },
     "output_type": "display_data"
    }
   ],
   "source": [
    "top_ten_prod_cont = de.col_arr_parse(df,'production_countries')"
   ]
  },
  {
   "cell_type": "code",
   "execution_count": 24,
   "metadata": {},
   "outputs": [
    {
     "name": "stdout",
     "output_type": "stream",
     "text": [
      "  spoken_languages  num_obs   prop\n",
      "0               en    18809  66.05\n",
      "1               fr     2608   9.16\n",
      "2               de     2455   8.62\n",
      "3               es     1698   5.96\n",
      "4               it     1408   4.94\n",
      "5               ja     1182   4.15\n",
      "6               ru      681   2.39\n",
      "7               zh      479   1.68\n",
      "8               hi      427   1.50\n",
      "9               da      385   1.35\n",
      "Average: 283\n",
      "Median: 9.0\n",
      "Number of distinct: 123\n"
     ]
    },
    {
     "data": {
      "image/png": "[encoded data removed]",
      "text/plain": [
       "<Figure size 432x288 with 1 Axes>"
      ]
     },
     "metadata": {
      "needs_background": "light"
     },
     "output_type": "display_data"
    }
   ],
   "source": [
    "top_ten_sp_lang = de.col_arr_parse(df,'spoken_languages')"
   ]
  },
  {
   "cell_type": "markdown",
   "metadata": {},
   "source": [
    "# NEXT STEP: Indicate what proportion of "
   ]
  },
  {
   "cell_type": "code",
   "execution_count": 26,
   "metadata": {},
   "outputs": [],
   "source": [
    "df['genres_top'] = df['genres'].apply(lambda x: de.top_rep(x_i=x, top_list=top_ten_genres))\n",
    "df['keywords_top'] = df['keywords'].apply(lambda x: de.top_rep(x_i=x, top_list=top_ten_kw))\n",
    "df['production_companies_top'] = df['production_companies'].apply(lambda x: de.top_rep(x_i=x, top_list=top_ten_prod_comp, indicate=True))\n",
    "df['production_countries_top'] = df['production_countries'].apply(lambda x: de.top_rep(x_i=x, top_list=top_ten_prod_cont, indicate=True))\n",
    "df['spoken_language_top'] = df['spoken_languages'].apply(lambda x: de.top_rep(x_i=x, top_list=top_ten_sp_lang))"
   ]
  },
  {
   "cell_type": "code",
   "execution_count": 27,
   "metadata": {},
   "outputs": [
    {
     "data": {
      "text/plain": [
       "0.1    9538\n",
       "0.2    9081\n",
       "0.3    4584\n",
       "0.0    2662\n",
       "0.4    1196\n",
       "0.5     170\n",
       "0.6      29\n",
       "Name: genres_top, dtype: int64"
      ]
     },
     "execution_count": 27,
     "metadata": {},
     "output_type": "execute_result"
    }
   ],
   "source": [
    "df['genres_top'].value_counts()"
   ]
  },
  {
   "cell_type": "code",
   "execution_count": 28,
   "metadata": {},
   "outputs": [
    {
     "data": {
      "text/plain": [
       "0.0    14713\n",
       "0.1     5626\n",
       "0.2      742\n",
       "0.3      106\n",
       "0.4       12\n",
       "0.5        2\n",
       "Name: keywords_top, dtype: int64"
      ]
     },
     "execution_count": 28,
     "metadata": {},
     "output_type": "execute_result"
    }
   ],
   "source": [
    "df['keywords_top'].value_counts()"
   ]
  },
  {
   "cell_type": "code",
   "execution_count": 29,
   "metadata": {},
   "outputs": [
    {
     "data": {
      "text/plain": [
       "0.0    16505\n",
       "1.0     5095\n",
       "Name: production_companies_top, dtype: int64"
      ]
     },
     "execution_count": 29,
     "metadata": {},
     "output_type": "execute_result"
    }
   ],
   "source": [
    "df['production_companies_top'].value_counts()"
   ]
  },
  {
   "cell_type": "code",
   "execution_count": 30,
   "metadata": {},
   "outputs": [
    {
     "data": {
      "text/plain": [
       "1.0    22623\n",
       "0.0     3005\n",
       "Name: production_countries_top, dtype: int64"
      ]
     },
     "execution_count": 30,
     "metadata": {},
     "output_type": "execute_result"
    }
   ],
   "source": [
    "df['production_countries_top'].value_counts()"
   ]
  },
  {
   "cell_type": "code",
   "execution_count": 31,
   "metadata": {},
   "outputs": [
    {
     "data": {
      "text/plain": [
       "0.1    20642\n",
       "0.2     3144\n",
       "0.0     1970\n",
       "0.3      743\n",
       "0.4      170\n",
       "0.5       40\n",
       "0.6        7\n",
       "0.7        5\n",
       "0.8        2\n",
       "Name: spoken_language_top, dtype: int64"
      ]
     },
     "execution_count": 31,
     "metadata": {},
     "output_type": "execute_result"
    }
   ],
   "source": [
    "df['spoken_language_top'].value_counts()"
   ]
  },
  {
   "cell_type": "code",
   "execution_count": 32,
   "metadata": {},
   "outputs": [],
   "source": [
    "df_1 = df.drop(['genres','keywords', 'production_companies', 'production_countries', 'spoken_languages'], axis=1).copy()\n",
    "df_1.reset_index(inplace = True, drop = True)"
   ]
  },
  {
   "cell_type": "code",
   "execution_count": 33,
   "metadata": {
    "scrolled": false
   },
   "outputs": [
    {
     "data": {
      "text/html": [
       "<div>\n",
       "<style scoped>\n",
       "    .dataframe tbody tr th:only-of-type {\n",
       "        vertical-align: middle;\n",
       "    }\n",
       "\n",
       "    .dataframe tbody tr th {\n",
       "        vertical-align: top;\n",
       "    }\n",
       "\n",
       "    .dataframe thead th {\n",
       "        text-align: right;\n",
       "    }\n",
       "</style>\n",
       "<table border=\"1\" class=\"dataframe\">\n",
       "  <thead>\n",
       "    <tr style=\"text-align: right;\">\n",
       "      <th></th>\n",
       "      <th>factor</th>\n",
       "      <th>num_null_3</th>\n",
       "      <th>num_null_0</th>\n",
       "      <th>miss_prop_0</th>\n",
       "      <th>num_null_1</th>\n",
       "      <th>miss_prop_1</th>\n",
       "      <th>num_null_2</th>\n",
       "      <th>miss_prop_2</th>\n",
       "      <th>miss_prop_3</th>\n",
       "    </tr>\n",
       "  </thead>\n",
       "  <tbody>\n",
       "    <tr>\n",
       "      <th>14</th>\n",
       "      <td>keywords_top</td>\n",
       "      <td>7276</td>\n",
       "      <td>NaN</td>\n",
       "      <td>NaN</td>\n",
       "      <td>NaN</td>\n",
       "      <td>NaN</td>\n",
       "      <td>NaN</td>\n",
       "      <td>NaN</td>\n",
       "      <td>25.55</td>\n",
       "    </tr>\n",
       "    <tr>\n",
       "      <th>15</th>\n",
       "      <td>production_companies_top</td>\n",
       "      <td>6877</td>\n",
       "      <td>NaN</td>\n",
       "      <td>NaN</td>\n",
       "      <td>NaN</td>\n",
       "      <td>NaN</td>\n",
       "      <td>NaN</td>\n",
       "      <td>NaN</td>\n",
       "      <td>24.15</td>\n",
       "    </tr>\n",
       "    <tr>\n",
       "      <th>16</th>\n",
       "      <td>production_countries_top</td>\n",
       "      <td>2849</td>\n",
       "      <td>NaN</td>\n",
       "      <td>NaN</td>\n",
       "      <td>NaN</td>\n",
       "      <td>NaN</td>\n",
       "      <td>NaN</td>\n",
       "      <td>NaN</td>\n",
       "      <td>10.00</td>\n",
       "    </tr>\n",
       "    <tr>\n",
       "      <th>17</th>\n",
       "      <td>spoken_language_top</td>\n",
       "      <td>1754</td>\n",
       "      <td>NaN</td>\n",
       "      <td>NaN</td>\n",
       "      <td>NaN</td>\n",
       "      <td>NaN</td>\n",
       "      <td>NaN</td>\n",
       "      <td>NaN</td>\n",
       "      <td>6.16</td>\n",
       "    </tr>\n",
       "    <tr>\n",
       "      <th>13</th>\n",
       "      <td>genres_top</td>\n",
       "      <td>1217</td>\n",
       "      <td>NaN</td>\n",
       "      <td>NaN</td>\n",
       "      <td>NaN</td>\n",
       "      <td>NaN</td>\n",
       "      <td>NaN</td>\n",
       "      <td>NaN</td>\n",
       "      <td>4.27</td>\n",
       "    </tr>\n",
       "    <tr>\n",
       "      <th>7</th>\n",
       "      <td>runtime</td>\n",
       "      <td>170</td>\n",
       "      <td>105434.0</td>\n",
       "      <td>78.83</td>\n",
       "      <td>170.0</td>\n",
       "      <td>0.60</td>\n",
       "      <td>170.0</td>\n",
       "      <td>0.60</td>\n",
       "      <td>0.60</td>\n",
       "    </tr>\n",
       "    <tr>\n",
       "      <th>5</th>\n",
       "      <td>release_date</td>\n",
       "      <td>111</td>\n",
       "      <td>105375.0</td>\n",
       "      <td>78.79</td>\n",
       "      <td>111.0</td>\n",
       "      <td>0.39</td>\n",
       "      <td>111.0</td>\n",
       "      <td>0.39</td>\n",
       "      <td>0.39</td>\n",
       "    </tr>\n",
       "    <tr>\n",
       "      <th>10</th>\n",
       "      <td>title</td>\n",
       "      <td>0</td>\n",
       "      <td>105267.0</td>\n",
       "      <td>78.71</td>\n",
       "      <td>0.0</td>\n",
       "      <td>0.00</td>\n",
       "      <td>0.0</td>\n",
       "      <td>0.00</td>\n",
       "      <td>0.00</td>\n",
       "    </tr>\n",
       "    <tr>\n",
       "      <th>12</th>\n",
       "      <td>vote_count</td>\n",
       "      <td>0</td>\n",
       "      <td>105267.0</td>\n",
       "      <td>78.71</td>\n",
       "      <td>0.0</td>\n",
       "      <td>0.00</td>\n",
       "      <td>0.0</td>\n",
       "      <td>0.00</td>\n",
       "      <td>0.00</td>\n",
       "    </tr>\n",
       "    <tr>\n",
       "      <th>11</th>\n",
       "      <td>vote_average</td>\n",
       "      <td>0</td>\n",
       "      <td>105267.0</td>\n",
       "      <td>78.71</td>\n",
       "      <td>0.0</td>\n",
       "      <td>0.00</td>\n",
       "      <td>0.0</td>\n",
       "      <td>0.00</td>\n",
       "      <td>0.00</td>\n",
       "    </tr>\n",
       "    <tr>\n",
       "      <th>0</th>\n",
       "      <td>budget</td>\n",
       "      <td>0</td>\n",
       "      <td>0.0</td>\n",
       "      <td>0.00</td>\n",
       "      <td>0.0</td>\n",
       "      <td>0.00</td>\n",
       "      <td>0.0</td>\n",
       "      <td>0.00</td>\n",
       "      <td>0.00</td>\n",
       "    </tr>\n",
       "    <tr>\n",
       "      <th>1</th>\n",
       "      <td>original_language</td>\n",
       "      <td>0</td>\n",
       "      <td>32768.0</td>\n",
       "      <td>24.50</td>\n",
       "      <td>0.0</td>\n",
       "      <td>0.00</td>\n",
       "      <td>0.0</td>\n",
       "      <td>0.00</td>\n",
       "      <td>0.00</td>\n",
       "    </tr>\n",
       "    <tr>\n",
       "      <th>8</th>\n",
       "      <td>status</td>\n",
       "      <td>0</td>\n",
       "      <td>105267.0</td>\n",
       "      <td>78.71</td>\n",
       "      <td>0.0</td>\n",
       "      <td>0.00</td>\n",
       "      <td>0.0</td>\n",
       "      <td>0.00</td>\n",
       "      <td>0.00</td>\n",
       "    </tr>\n",
       "    <tr>\n",
       "      <th>6</th>\n",
       "      <td>revenue</td>\n",
       "      <td>0</td>\n",
       "      <td>105264.0</td>\n",
       "      <td>78.71</td>\n",
       "      <td>0.0</td>\n",
       "      <td>0.00</td>\n",
       "      <td>0.0</td>\n",
       "      <td>0.00</td>\n",
       "      <td>0.00</td>\n",
       "    </tr>\n",
       "    <tr>\n",
       "      <th>4</th>\n",
       "      <td>popularity</td>\n",
       "      <td>0</td>\n",
       "      <td>105264.0</td>\n",
       "      <td>78.71</td>\n",
       "      <td>0.0</td>\n",
       "      <td>0.00</td>\n",
       "      <td>0.0</td>\n",
       "      <td>0.00</td>\n",
       "      <td>0.00</td>\n",
       "    </tr>\n",
       "    <tr>\n",
       "      <th>3</th>\n",
       "      <td>overview</td>\n",
       "      <td>0</td>\n",
       "      <td>33226.0</td>\n",
       "      <td>24.84</td>\n",
       "      <td>458.0</td>\n",
       "      <td>1.61</td>\n",
       "      <td>0.0</td>\n",
       "      <td>0.00</td>\n",
       "      <td>0.00</td>\n",
       "    </tr>\n",
       "    <tr>\n",
       "      <th>2</th>\n",
       "      <td>original_title</td>\n",
       "      <td>0</td>\n",
       "      <td>32768.0</td>\n",
       "      <td>24.50</td>\n",
       "      <td>0.0</td>\n",
       "      <td>0.00</td>\n",
       "      <td>0.0</td>\n",
       "      <td>0.00</td>\n",
       "      <td>0.00</td>\n",
       "    </tr>\n",
       "    <tr>\n",
       "      <th>9</th>\n",
       "      <td>tagline</td>\n",
       "      <td>0</td>\n",
       "      <td>120766.0</td>\n",
       "      <td>90.30</td>\n",
       "      <td>15499.0</td>\n",
       "      <td>54.43</td>\n",
       "      <td>0.0</td>\n",
       "      <td>0.00</td>\n",
       "      <td>0.00</td>\n",
       "    </tr>\n",
       "  </tbody>\n",
       "</table>\n",
       "</div>"
      ],
      "text/plain": [
       "                      factor  num_null_3  num_null_0  miss_prop_0  num_null_1  \\\n",
       "14              keywords_top        7276         NaN          NaN         NaN   \n",
       "15  production_companies_top        6877         NaN          NaN         NaN   \n",
       "16  production_countries_top        2849         NaN          NaN         NaN   \n",
       "17       spoken_language_top        1754         NaN          NaN         NaN   \n",
       "13                genres_top        1217         NaN          NaN         NaN   \n",
       "7                    runtime         170    105434.0        78.83       170.0   \n",
       "5               release_date         111    105375.0        78.79       111.0   \n",
       "10                     title           0    105267.0        78.71         0.0   \n",
       "12                vote_count           0    105267.0        78.71         0.0   \n",
       "11              vote_average           0    105267.0        78.71         0.0   \n",
       "0                     budget           0         0.0         0.00         0.0   \n",
       "1          original_language           0     32768.0        24.50         0.0   \n",
       "8                     status           0    105267.0        78.71         0.0   \n",
       "6                    revenue           0    105264.0        78.71         0.0   \n",
       "4                 popularity           0    105264.0        78.71         0.0   \n",
       "3                   overview           0     33226.0        24.84       458.0   \n",
       "2             original_title           0     32768.0        24.50         0.0   \n",
       "9                    tagline           0    120766.0        90.30     15499.0   \n",
       "\n",
       "    miss_prop_1  num_null_2  miss_prop_2  miss_prop_3  \n",
       "14          NaN         NaN          NaN        25.55  \n",
       "15          NaN         NaN          NaN        24.15  \n",
       "16          NaN         NaN          NaN        10.00  \n",
       "17          NaN         NaN          NaN         6.16  \n",
       "13          NaN         NaN          NaN         4.27  \n",
       "7          0.60       170.0         0.60         0.60  \n",
       "5          0.39       111.0         0.39         0.39  \n",
       "10         0.00         0.0         0.00         0.00  \n",
       "12         0.00         0.0         0.00         0.00  \n",
       "11         0.00         0.0         0.00         0.00  \n",
       "0          0.00         0.0         0.00         0.00  \n",
       "1          0.00         0.0         0.00         0.00  \n",
       "8          0.00         0.0         0.00         0.00  \n",
       "6          0.00         0.0         0.00         0.00  \n",
       "4          0.00         0.0         0.00         0.00  \n",
       "3          1.61         0.0         0.00         0.00  \n",
       "2          0.00         0.0         0.00         0.00  \n",
       "9         54.43         0.0         0.00         0.00  "
      ]
     },
     "execution_count": 33,
     "metadata": {},
     "output_type": "execute_result"
    }
   ],
   "source": [
    "# Analsis of dataframe after addressing columns with lists of elements:\n",
    "trans_null_3 = pd.DataFrame(df_1.isnull().sum()).reset_index()\n",
    "trans_null_3.rename(columns={'index': 'factor', 0: 'num_null_3'}, inplace=True)\n",
    "null_3 = trans_null_3.join(null_2.set_index('factor'), on='factor')\n",
    "df_info['obs_3'] = df_1.shape[0]\n",
    "df_info['fac_3'] = df_1.shape[1]\n",
    "df_info['null_3'] = null_3\n",
    "df_info['null_3']['miss_prop_3'] = round(df_info['null_3']['num_null_3'] / df.shape[0], 4) * 100\n",
    "df_info['null_3'].sort_values('miss_prop_3', ascending=False)"
   ]
  },
  {
   "cell_type": "markdown",
   "metadata": {},
   "source": [
    "# Impute with knn"
   ]
  },
  {
   "cell_type": "code",
   "execution_count": null,
   "metadata": {},
   "outputs": [],
   "source": []
  }
 ],
 "metadata": {
  "kernelspec": {
   "display_name": "Python 3",
   "language": "python",
   "name": "python3"
  },
  "language_info": {
   "codemirror_mode": {
    "name": "ipython",
    "version": 3
   },
   "file_extension": ".py",
   "mimetype": "text/x-python",
   "name": "python",
   "nbconvert_exporter": "python",
   "pygments_lexer": "ipython3",
   "version": "3.7.6"
  }
 },
 "nbformat": 4,
 "nbformat_minor": 4
}
